{
 "cells": [
  {
   "cell_type": "markdown",
   "id": "92b18278-7b0e-4b7c-8cde-66937daa24b8",
   "metadata": {},
   "source": [
    "# A/B Testing Analysis"
   ]
  },
  {
   "cell_type": "markdown",
   "id": "63f8af3d-509a-4b5e-87c6-5fe4411049d7",
   "metadata": {},
   "source": [
    "The purpose of this notebook is to run through a toy A/B testing scenario using the code contained in the `src` folder in this repository and the data in the `data` folder and demonstrate an example of the process of analyzing data collected in an A/B test measuring conversion rates and revenue generation using frequentist and Bayesian methods. "
   ]
  },
  {
   "cell_type": "markdown",
   "id": "29011a48-3c88-49cd-965f-f44c449e629d",
   "metadata": {},
   "source": [
    "### What is A/B Testing?\n",
    "\n",
    "A/B testing (or split testing) is a controlled experiment where two (or more) variations of a webpage, feature, or marketing campaign are tested against each other to determine which performs better.\n",
    "#### Common Applications\n",
    "\n",
    "Website Optimization: Testing different UI/UX designs to improve conversion rates.\n",
    "Marketing Campaigns: Comparing email subject lines, ad copies, or promotional strategies.\n",
    "Product Changes: Evaluating new features against existing ones before a full rollout.\n",
    "Algorithmic Adjustments: Testing new recommendation models in e-commerce.\n",
    "\n",
    "#### Key Components of A/B Testing\n",
    "\n",
    "Control Group (A): The baseline (current version).\n",
    "Treatment Group (B): The new version with a modification.\n",
    "Random Assignment: Users are randomly assigned to groups to reduce bias.\n",
    "Performance Metrics: Metrics such as conversion rate, click-through rate, bounce rate, or revenue per user are tracked.\n",
    "\n",
    "#### Statistical Foundations\n",
    "\n",
    "Null Hypothesis (H₀): There is no significant difference between A and B.\n",
    "Alternative Hypothesis (H₁): A statistically significant difference exists.\n",
    "Type I and Type II Errors:\n",
    "    Type I Error: False positive (detecting an effect when none exists).\n",
    "    Type II Error: False negative (failing to detect an effect when one exists).\n",
    "Statistical Significance: Typically, a p-value < 0.05 indicates statistical significance.\n",
    "Effect Size: Measures the magnitude of the difference between groups.\n",
    "Power Analysis: Determines the sample size needed to detect a meaningful effect.\n",
    "\n",
    "#### Common Statistical Tests\n",
    "\n",
    "Chi-Square Test: Used for categorical data (e.g., conversion rates).\n",
    "T-Test: Compares means between two groups (independent samples t-test).\n",
    "Bayesian A/B Testing: An alternative approach that estimates the probability distribution of outcomes.\n",
    "Sequential Testing: Allows monitoring results as they come in to stop early if needed."
   ]
  },
  {
   "cell_type": "markdown",
   "id": "95fadf82-8fad-4f74-9d2f-45fafd61daae",
   "metadata": {},
   "source": [
    "## Load and explore the dataset"
   ]
  },
  {
   "cell_type": "markdown",
   "id": "da22e043-0a65-4323-9f53-3924d69acb48",
   "metadata": {},
   "source": [
    "The following data used in this example analysis notebook is an AI-generated dataset of 5000 users randomly assigned to the A or B group, simply to demonstrate some of the basic and useful approaches to understanding A/B Testing. The dataset represent an A/B test for an e-commerce website where we might track user interactions. The dataset includes:\n",
    "\n",
    " - user_id: Unique identifier for users.\n",
    " - group: 'A' (control) or 'B' (treatment).\n",
    " - timestamp: When the user visited the website.\n",
    " - click: 1 if the user clicked on the call-to-action, 0 otherwise.\n",
    " - converted: 1 if the user made a purchase, 0 otherwise.\n",
    " - revenue: Revenue generated from the purchase."
   ]
  },
  {
   "cell_type": "code",
   "execution_count": 2,
   "id": "b845e4e6-be14-4664-81e9-5f910dd46f0e",
   "metadata": {},
   "outputs": [
    {
     "data": {
      "text/html": [
       "<div>\n",
       "<style scoped>\n",
       "    .dataframe tbody tr th:only-of-type {\n",
       "        vertical-align: middle;\n",
       "    }\n",
       "\n",
       "    .dataframe tbody tr th {\n",
       "        vertical-align: top;\n",
       "    }\n",
       "\n",
       "    .dataframe thead th {\n",
       "        text-align: right;\n",
       "    }\n",
       "</style>\n",
       "<table border=\"1\" class=\"dataframe\">\n",
       "  <thead>\n",
       "    <tr style=\"text-align: right;\">\n",
       "      <th></th>\n",
       "      <th>user_id</th>\n",
       "      <th>group</th>\n",
       "      <th>timestamp</th>\n",
       "      <th>click</th>\n",
       "      <th>converted</th>\n",
       "      <th>revenue</th>\n",
       "    </tr>\n",
       "  </thead>\n",
       "  <tbody>\n",
       "    <tr>\n",
       "      <th>0</th>\n",
       "      <td>1</td>\n",
       "      <td>A</td>\n",
       "      <td>2024-01-01 00:00:00</td>\n",
       "      <td>0</td>\n",
       "      <td>0</td>\n",
       "      <td>0.0</td>\n",
       "    </tr>\n",
       "    <tr>\n",
       "      <th>1</th>\n",
       "      <td>2</td>\n",
       "      <td>B</td>\n",
       "      <td>2024-01-01 00:01:00</td>\n",
       "      <td>0</td>\n",
       "      <td>0</td>\n",
       "      <td>0.0</td>\n",
       "    </tr>\n",
       "    <tr>\n",
       "      <th>2</th>\n",
       "      <td>3</td>\n",
       "      <td>B</td>\n",
       "      <td>2024-01-01 00:02:00</td>\n",
       "      <td>0</td>\n",
       "      <td>0</td>\n",
       "      <td>0.0</td>\n",
       "    </tr>\n",
       "    <tr>\n",
       "      <th>3</th>\n",
       "      <td>4</td>\n",
       "      <td>B</td>\n",
       "      <td>2024-01-01 00:03:00</td>\n",
       "      <td>0</td>\n",
       "      <td>0</td>\n",
       "      <td>0.0</td>\n",
       "    </tr>\n",
       "    <tr>\n",
       "      <th>4</th>\n",
       "      <td>5</td>\n",
       "      <td>A</td>\n",
       "      <td>2024-01-01 00:04:00</td>\n",
       "      <td>0</td>\n",
       "      <td>0</td>\n",
       "      <td>0.0</td>\n",
       "    </tr>\n",
       "    <tr>\n",
       "      <th>5</th>\n",
       "      <td>6</td>\n",
       "      <td>A</td>\n",
       "      <td>2024-01-01 00:05:00</td>\n",
       "      <td>0</td>\n",
       "      <td>0</td>\n",
       "      <td>0.0</td>\n",
       "    </tr>\n",
       "    <tr>\n",
       "      <th>6</th>\n",
       "      <td>7</td>\n",
       "      <td>A</td>\n",
       "      <td>2024-01-01 00:06:00</td>\n",
       "      <td>0</td>\n",
       "      <td>0</td>\n",
       "      <td>0.0</td>\n",
       "    </tr>\n",
       "    <tr>\n",
       "      <th>7</th>\n",
       "      <td>8</td>\n",
       "      <td>B</td>\n",
       "      <td>2024-01-01 00:07:00</td>\n",
       "      <td>0</td>\n",
       "      <td>0</td>\n",
       "      <td>0.0</td>\n",
       "    </tr>\n",
       "    <tr>\n",
       "      <th>8</th>\n",
       "      <td>9</td>\n",
       "      <td>B</td>\n",
       "      <td>2024-01-01 00:08:00</td>\n",
       "      <td>0</td>\n",
       "      <td>0</td>\n",
       "      <td>0.0</td>\n",
       "    </tr>\n",
       "    <tr>\n",
       "      <th>9</th>\n",
       "      <td>10</td>\n",
       "      <td>B</td>\n",
       "      <td>2024-01-01 00:09:00</td>\n",
       "      <td>0</td>\n",
       "      <td>0</td>\n",
       "      <td>0.0</td>\n",
       "    </tr>\n",
       "  </tbody>\n",
       "</table>\n",
       "</div>"
      ],
      "text/plain": [
       "   user_id group            timestamp  click  converted  revenue\n",
       "0        1     A  2024-01-01 00:00:00      0          0      0.0\n",
       "1        2     B  2024-01-01 00:01:00      0          0      0.0\n",
       "2        3     B  2024-01-01 00:02:00      0          0      0.0\n",
       "3        4     B  2024-01-01 00:03:00      0          0      0.0\n",
       "4        5     A  2024-01-01 00:04:00      0          0      0.0\n",
       "5        6     A  2024-01-01 00:05:00      0          0      0.0\n",
       "6        7     A  2024-01-01 00:06:00      0          0      0.0\n",
       "7        8     B  2024-01-01 00:07:00      0          0      0.0\n",
       "8        9     B  2024-01-01 00:08:00      0          0      0.0\n",
       "9       10     B  2024-01-01 00:09:00      0          0      0.0"
      ]
     },
     "execution_count": 2,
     "metadata": {},
     "output_type": "execute_result"
    }
   ],
   "source": [
    "import sys\n",
    "import os\n",
    "\n",
    "# ensure the AB_testing project root is in sys.path\n",
    "sys.path.append(os.path.abspath(os.path.join(os.getcwd(), '..')))\n",
    "\n",
    "# Load dataset\n",
    "from src.data_loader import load_data\n",
    "df = load_data()\n",
    "\n",
    "df.head(10)"
   ]
  },
  {
   "cell_type": "markdown",
   "id": "9969d990-4eea-412b-82fd-5ef199c1683c",
   "metadata": {},
   "source": [
    "## Exploratory Data Analysis\n",
    "\n",
    "As this is a synthetic dataset, we won't go too deep into looking for variable-by-variable trends or missing data - we know the data is appropriately distributed and complete. We would, however, like to see the general trends in the data. "
   ]
  },
  {
   "cell_type": "code",
   "execution_count": 4,
   "id": "3bcc3a25-2f44-48ec-8339-6601009a0bbb",
   "metadata": {},
   "outputs": [
    {
     "name": "stdout",
     "output_type": "stream",
     "text": [
      "Summary Statistics: \n",
      "        click_rate  conversion_rate  avg_revenue\n",
      "group                                          \n",
      "A          0.1228           0.0524     2.595998\n",
      "B          0.1580           0.0728     3.561387\n"
     ]
    }
   ],
   "source": [
    "# Perform EDA\n",
    "from src.eda import exploratory_analysis\n",
    "summary = exploratory_analysis(df)"
   ]
  },
  {
   "cell_type": "markdown",
   "id": "cf884a09-cadf-4529-95bd-a3fc5d63d8c9",
   "metadata": {},
   "source": [
    "## Frequentist Statistical Hypothesis Testing\n",
    "\n",
    "We can begin our analysis with frequentist statistical tests, including the Chi-Squared test (for detecting differences in categorical data), the student's T-Test (two-group comparison), and the determination of a Cohen's D statistic of effect size between the two conditions. "
   ]
  },
  {
   "cell_type": "code",
   "execution_count": 11,
   "id": "5d52e139-c965-41b1-8d3c-34e4427e54ce",
   "metadata": {},
   "outputs": [],
   "source": [
    "from src.stat_tests import chi_square_test, t_test_revenue, cohen_d"
   ]
  },
  {
   "cell_type": "code",
   "execution_count": 15,
   "id": "165456d7-642f-470d-b8b1-6168f6c03955",
   "metadata": {},
   "outputs": [
    {
     "name": "stdout",
     "output_type": "stream",
     "text": [
      "\n",
      "Chi-Square Test for Conversion Rate: Chi2: 8.520610675575362, p-value: 0.0035114663863375635\n",
      "\n",
      "T-Test for Revenue: T-stat: -2.6411763779584594, p-value: 0.008288050948266549\n",
      "\n",
      "Effect Size (Cohen's d): 0.0747037490865667\n"
     ]
    }
   ],
   "source": [
    "chi2, chi2_p = chi_square_test(df)\n",
    "t_stat, t_test_p = t_test_revenue(df)\n",
    "d = cohen_d(df)"
   ]
  },
  {
   "cell_type": "markdown",
   "id": "7baeea8a-5f62-4e5f-bbab-1cd2c3e6fb29",
   "metadata": {},
   "source": [
    "The above tests indicate that in terms of both conversion rate and revenue generated, the differences between groups A and B are not likely to occur by chance (< .4% or .8% chance of the same results occurring due to natural variation in the data), and suggest that the manipulation applied to group B significantly increase both conversion rate and generated revenue, but with a relatively small effect size (only 7.4% of group B above the mean of group A). "
   ]
  },
  {
   "cell_type": "code",
   "execution_count": null,
   "id": "e639314a-0ae4-41e5-a194-f238b869941e",
   "metadata": {},
   "outputs": [],
   "source": []
  }
 ],
 "metadata": {
  "kernelspec": {
   "display_name": "Python 3 (ipykernel)",
   "language": "python",
   "name": "python3"
  },
  "language_info": {
   "codemirror_mode": {
    "name": "ipython",
    "version": 3
   },
   "file_extension": ".py",
   "mimetype": "text/x-python",
   "name": "python",
   "nbconvert_exporter": "python",
   "pygments_lexer": "ipython3",
   "version": "3.9.21"
  }
 },
 "nbformat": 4,
 "nbformat_minor": 5
}
