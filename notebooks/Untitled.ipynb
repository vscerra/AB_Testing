{
 "cells": [
  {
   "cell_type": "markdown",
   "id": "92b18278-7b0e-4b7c-8cde-66937daa24b8",
   "metadata": {},
   "source": [
    "# A/B Testing Analysis"
   ]
  },
  {
   "cell_type": "markdown",
   "id": "63f8af3d-509a-4b5e-87c6-5fe4411049d7",
   "metadata": {},
   "source": [
    "The purpose of this notebook is to run through a toy A/B testing scenario using the code contained in the `src` folder in this repository and the data in the `data` folder and demonstrate an example of the process of analyzing data collected in an A/B test measuring conversion rates and revenue generation using frequentist and Bayesian methods. "
   ]
  },
  {
   "cell_type": "markdown",
   "id": "29011a48-3c88-49cd-965f-f44c449e629d",
   "metadata": {},
   "source": [
    "### What is A/B Testing?\n",
    "\n",
    "A/B testing (or split testing) is a controlled experiment where two (or more) variations of a webpage, feature, or marketing campaign are tested against each other to determine which performs better.\n",
    "#### Common Applications\n",
    "\n",
    "Website Optimization: Testing different UI/UX designs to improve conversion rates.\n",
    "Marketing Campaigns: Comparing email subject lines, ad copies, or promotional strategies.\n",
    "Product Changes: Evaluating new features against existing ones before a full rollout.\n",
    "Algorithmic Adjustments: Testing new recommendation models in e-commerce.\n",
    "\n",
    "#### Key Components of A/B Testing\n",
    "\n",
    "Control Group (A): The baseline (current version).\n",
    "Treatment Group (B): The new version with a modification.\n",
    "Random Assignment: Users are randomly assigned to groups to reduce bias.\n",
    "Performance Metrics: Metrics such as conversion rate, click-through rate, bounce rate, or revenue per user are tracked.\n",
    "\n",
    "#### Statistical Foundations\n",
    "\n",
    "Null Hypothesis (H₀): There is no significant difference between A and B.\n",
    "Alternative Hypothesis (H₁): A statistically significant difference exists.\n",
    "Type I and Type II Errors:\n",
    "    Type I Error: False positive (detecting an effect when none exists).\n",
    "    Type II Error: False negative (failing to detect an effect when one exists).\n",
    "Statistical Significance: Typically, a p-value < 0.05 indicates statistical significance.\n",
    "Effect Size: Measures the magnitude of the difference between groups.\n",
    "Power Analysis: Determines the sample size needed to detect a meaningful effect.\n",
    "\n",
    "#### Common Statistical Tests\n",
    "\n",
    "Chi-Square Test: Used for categorical data (e.g., conversion rates).\n",
    "T-Test: Compares means between two groups (independent samples t-test).\n",
    "Bayesian A/B Testing: An alternative approach that estimates the probability distribution of outcomes.\n",
    "Sequential Testing: Allows monitoring results as they come in to stop early if needed."
   ]
  },
  {
   "cell_type": "markdown",
   "id": "95fadf82-8fad-4f74-9d2f-45fafd61daae",
   "metadata": {},
   "source": [
    "## Load and explore the dataset"
   ]
  },
  {
   "cell_type": "code",
   "execution_count": 2,
   "id": "b845e4e6-be14-4664-81e9-5f910dd46f0e",
   "metadata": {},
   "outputs": [
    {
     "ename": "ModuleNotFoundError",
     "evalue": "No module named 'src'",
     "output_type": "error",
     "traceback": [
      "\u001b[1;31m---------------------------------------------------------------------------\u001b[0m",
      "\u001b[1;31mModuleNotFoundError\u001b[0m                       Traceback (most recent call last)",
      "Cell \u001b[1;32mIn[2], line 2\u001b[0m\n\u001b[0;32m      1\u001b[0m \u001b[38;5;66;03m# Load dataset\u001b[39;00m\n\u001b[1;32m----> 2\u001b[0m \u001b[38;5;28;01mfrom\u001b[39;00m \u001b[38;5;21;01msrc\u001b[39;00m\u001b[38;5;21;01m.\u001b[39;00m\u001b[38;5;21;01mdata_loader\u001b[39;00m \u001b[38;5;28;01mimport\u001b[39;00m load_data\n\u001b[0;32m      3\u001b[0m df \u001b[38;5;241m=\u001b[39m load_data()\n",
      "\u001b[1;31mModuleNotFoundError\u001b[0m: No module named 'src'"
     ]
    }
   ],
   "source": [
    "# Load dataset\n",
    "from src.data_loader import load_data\n",
    "df = load_data()"
   ]
  },
  {
   "cell_type": "code",
   "execution_count": null,
   "id": "677655f4-3653-48bb-b1ed-656e30f908d2",
   "metadata": {},
   "outputs": [],
   "source": []
  }
 ],
 "metadata": {
  "kernelspec": {
   "display_name": "Python 3 (ipykernel)",
   "language": "python",
   "name": "python3"
  },
  "language_info": {
   "codemirror_mode": {
    "name": "ipython",
    "version": 3
   },
   "file_extension": ".py",
   "mimetype": "text/x-python",
   "name": "python",
   "nbconvert_exporter": "python",
   "pygments_lexer": "ipython3",
   "version": "3.9.21"
  }
 },
 "nbformat": 4,
 "nbformat_minor": 5
}
